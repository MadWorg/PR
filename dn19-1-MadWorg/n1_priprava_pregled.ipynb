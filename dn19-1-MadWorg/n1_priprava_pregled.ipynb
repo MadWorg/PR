{
 "cells": [
  {
   "cell_type": "markdown",
   "metadata": {
    "lang": "sl"
   },
   "source": [
    "### Podatkovno rudarjenje, 1. domača naloga, VPIŠI DATUM ODDAJE\n",
    "\n",
    "# Priprava podatkov, osnovne statistike in vizualizacija"
   ]
  },
  {
   "cell_type": "markdown",
   "metadata": {
    "lang": "sl"
   },
   "source": [
    "**Ime in priimek** **VPIŠI !!!**"
   ]
  },
  {
   "cell_type": "markdown",
   "metadata": {
    "lang": "sl"
   },
   "source": [
    "Neizogiben del vsakega projekta na področju podatkovnega rudarjenja je iskanje,\n",
    "urejanje in priprava podatkov. V tej nalogi boste spoznali primer podatkovne\n",
    "zbirke in uporabili postopke za pretvorbo podatkov v ustrezno obliko ter pregled in prikaz\n",
    "osnovnih statistik.\n",
    "\n",
    "### Oddaja\n",
    "Zapišite kodo in odgovore v spodnje celice. Tako pripravljen notebook shranite v vaš repozitorij za domače naloge na *github*. V učilnici oddajte le povezavo do notebooka v vašem repozitoriju, n.pr.: \n",
    "https://github.com/PR-ULFRI/dn19-1-vašeuporabniškoime/n1_priprava_pregled.ipynb.\n",
    "\n",
    "Za bolj podrobna navodila, glejte razdelek \"Domače naloge\" v [spletni učilnici predmeta](https://ucilnica.fri.uni-lj.si/course/view.php?id=37)."
   ]
  },
  {
   "cell_type": "markdown",
   "metadata": {
    "lang": "sl"
   },
   "source": [
    "## Podatki\n",
    "\n",
    "V nalogi boste pregledali in pripravili podatke gledanosti Hollywoodskih filmov\n",
    "zbirke [MovieLens](https://grouplens.org/datasets/movielens/) v obdobju **1995-2016**. Podatki so v mapi `/podatki/ml-latest-small`.\n",
    "\n",
    "Iste podatke boste uporabili v vseh domačih nalogah, zato jih dodobra spoznajte. Gre za podatkovno zbirko za\n",
    "vrednotenje priporočilnih sistemov, ki vsebuje gledalce ter njihove ocene za posamezni film na lestvici 1 do 5.  \n",
    "Poleg osnovne matrike uporabnikov in ocen vsebuje še dodatne podatke o filmih (npr. žanr, datum, oznake,\n",
    "igralci).\n",
    "\n",
    "Podatkovna zbirka vsebuje naslednje datoteke:\n",
    "\n",
    "* ratings.csv: podatki o uporabnikih in ocenah,\n",
    "* movies.csv: podatki o žanrih filmov,\n",
    "* cast.csv: podatki o igralcih,\n",
    "* tags.csv: podatki o oznakah (ang. \\emph{tags}),\n",
    "* links.csv: povezave na sorodne podatkovne zbirke.\n",
    "\n",
    "\n",
    "Pred pričetkom reševanja naloge si dobro oglejte podatke in datoteko **README.txt**. Podrobnosti o zbirki lahko preberete na [spletni strani](http://files.grouplens.org/datasets/movielens/ml-latest-small-README.html).\n",
    "\n",
    "Pripravite metode za nalaganje podatkov v ustrezne podatkovne strukture. Te vam bodo prišle\n",
    "prav tudi pri nadaljnjih nalogah.\n",
    "Bodite pozorni na velikost podatkov."
   ]
  },
  {
   "cell_type": "markdown",
   "metadata": {
    "lang": "sl"
   },
   "source": [
    "Zapišite kodo za branje datotek in pripravo ustreznih matrik (in drugih struktur) podatkov, ki jih boste uporabi pri odgovarjanju na spodnja vprašanja.\n",
    "\n",
    "Kodo lahko razdelite v več celic."
   ]
  },
  {
   "cell_type": "code",
   "execution_count": null,
   "metadata": {
    "collapsed": true
   },
   "outputs": [],
   "source": []
  },
  {
   "cell_type": "markdown",
   "metadata": {
    "lang": "sl"
   },
   "source": [
    "## Vprašanja\n",
    "\n",
    "Glavni namen podatkovnega rudarjenja je *odkrivanje znanj iz podatkov*,\n",
    "torej odgovarjanje na vprašanja z uporabo računskih postopkov.\n",
    "\n",
    "Z uporabo principov, ki ste jih spoznali na vajah in predavanjih, odgovorite na\n",
    "spodnja vprašanja. Pri vsakem vprašanju dobro premislite, na kakšen način boste\n",
    "najbolje podali, prikazali oz. utemeljili odgovor. Bistven del so odgovori na\n",
    "vprašanja in ne implementacija vaše rešitve."
   ]
  },
  {
   "cell_type": "markdown",
   "metadata": {
    "lang": "sl"
   },
   "source": [
    "### 1. vprašanje (15%):\n",
    "Kateri filmi so v povprečju najbolje ocenjeni?  Pripravite seznam\n",
    "filmov ter njihovih povprečnih ocen in izpišite po 10 filmov z vrha seznama.\n",
    "Opazite pri takem ocenjevanju kakšno težavo? Kako bi jo lahko rešili? Kakšni so\n",
    "rezultati tedaj?\n",
    "\n",
    "Kodo lahko razdelite v več celic."
   ]
  },
  {
   "cell_type": "code",
   "execution_count": 43,
   "metadata": {},
   "outputs": [
    {
     "name": "stdout",
     "output_type": "stream",
     "text": [
      "One Magic Christmas (1985)  :  5.0\n",
      "Step Into Liquid (2002)  :  5.0\n",
      "Art of War, The (2000)  :  5.0\n",
      "Taste of Cherry (Ta'm e guilass) (1997)  :  5.0\n",
      "King Is Alive, The (2000)  :  5.0\n",
      "Innocence (2000)  :  5.0\n",
      "Maelström (2000)  :  5.0\n",
      "Seconds (1966)  :  5.0\n",
      "Amazing Grace (2006)  :  5.0\n",
      "Unvanquished, The (Aparajito) (1957)  :  5.0\n",
      "\n",
      "Z normalizacijo\n",
      "\n",
      "Shawshank Redemption, The (1994)  :  4.092\n",
      "Forrest Gump (1994)  :  4.054\n",
      "Pulp Fiction (1994)  :  4.044\n",
      "Silence of the Lambs, The (1991)  :  3.689\n",
      "Star Wars: Episode IV - A New Hope (1977)  :  3.603\n",
      "Matrix, The (1999)  :  3.177\n",
      "Schindler's List (1993)  :  3.079\n",
      "Jurassic Park (1993)  :  2.978\n",
      "Star Wars: Episode V - The Empire Strikes Back (1980)  :  2.905\n",
      "Toy Story (1995)  :  2.805\n"
     ]
    }
   ],
   "source": [
    "from csv import DictReader\n",
    "from collections import Counter\n",
    "\n",
    "\n",
    "ratings = DictReader(open('podatki/ml-latest-small/ratings.csv', 'rt', encoding='utf-8'))\n",
    "movies = DictReader(open('podatki/ml-latest-small/movies.csv', 'rt', encoding='utf-8'))\n",
    "\n",
    "ar = {} # key: movieId, value: all ratings for that id\n",
    "mov = {} # key: movieId, value: title\n",
    "passOne = {}\n",
    "\n",
    "for row in movies:\n",
    "    movId = row[\"movieId\"]\n",
    "    title = row[\"title\"]\n",
    "    genres = row[\"genres\"]\n",
    "    if movId not in mov:\n",
    "        mov[movId] = title\n",
    "    \n",
    "for row in ratings:\n",
    "    user = row[\"userId\"]\n",
    "    movie = row[\"movieId\"]\n",
    "    rating = row[\"rating\"]\n",
    "    if movie not in ar:\n",
    "        ar[movie] = []\n",
    "    ar[movie].append(float(rating))\n",
    "\n",
    "mostRated = 0\n",
    "\n",
    "for key, values in ar.items():\n",
    "    if (len(values) > mostRated):\n",
    "        mostRated = len(values)\n",
    "    passOne[key]=float(\"{0:.3f}\".format(sum(values)/len(values)))\n",
    "    \n",
    "\n",
    "\n",
    "c = Counter(passOne)\n",
    "top = c.most_common(10)\n",
    "\n",
    "for i in top:\n",
    "    print(mov.get(i[0]),\" : \",i[1])\n",
    "    \n",
    "    \n",
    "    \n",
    "'''\n",
    "Problem je, da imajo nekateri filmi visoko povprečno oceno, vendar imajo malo število ogledov/ocen.\n",
    "Tega se lahko rešimo z normalizacijo. Seštevek vseh ocen bomo delili s številom ocen najbolj ocenjenega filma.\n",
    "'''   \n",
    "\n",
    "print(\"\\nZ normalizacijo\\n\")\n",
    "\n",
    "passTwo = {}\n",
    "\n",
    "for key, values in ar.items():\n",
    "    passTwo[key]=float(\"{0:.3f}\".format(sum(values)/mostRated))\n",
    "    \n",
    "c = Counter(passTwo)\n",
    "top = c.most_common(10)\n",
    "\n",
    "for i in top:\n",
    "    print(mov.get(i[0]),\" : \",i[1])"
   ]
  },
  {
   "cell_type": "markdown",
   "metadata": {
    "lang": "sl"
   },
   "source": [
    "Odgovor: **zapišite odgovor**"
   ]
  },
  {
   "cell_type": "markdown",
   "metadata": {
    "lang": "sl"
   },
   "source": [
    "### 2. vprašanje (15%):\n",
    "Posamezni film pripada enemu ali več žanrom. \n",
    "Koliko je vseh žanrov? Prikaži porazdelitev žanrov z uporabo ustrezne\n",
    "vizualizacije.\n",
    "\n",
    "Kodo lahko razdelite v več celic."
   ]
  },
  {
   "cell_type": "code",
   "execution_count": 99,
   "metadata": {
    "scrolled": true
   },
   "outputs": [
    {
     "data": {
      "image/png": "[encoded data removed]",
      "text/plain": [
       "<Figure size 1440x432 with 1 Axes>"
      ]
     },
     "metadata": {
      "needs_background": "light"
     },
     "output_type": "display_data"
    }
   ],
   "source": [
    "from csv import DictReader\n",
    "import matplotlib.pyplot as mpl\n",
    "import numpy as np\n",
    "\n",
    "movies = DictReader(open('podatki/ml-latest-small/movies.csv', 'rt', encoding='utf-8'))\n",
    "movGen = {} # key: genre, value: occurences\n",
    "\n",
    "for row in movies:\n",
    "    movId = row[\"movieId\"]\n",
    "    title = row[\"title\"]\n",
    "    genres = row[\"genres\"].split(\"|\")\n",
    "    for genre in genres:\n",
    "        if genre not in movGen:\n",
    "            movGen[genre] = 0\n",
    "        movGen[genre] += 1\n",
    "        \n",
    "'''Žanrov je 19, saj je ena od vrednosti (no genres listed)'''       \n",
    "\n",
    "\n",
    "genre, count = zip(*sorted(list(zip(list(movGen.keys()), list(movGen.values()))), key=lambda tup: tup[1]))\n",
    "#print(genre)\n",
    "#print(count)\n",
    "\n",
    "mpl.figure(figsize=(20,6))\n",
    "mpl.barh(genre, count)\n",
    "mpl.suptitle(\"Žanri filmov\")\n",
    "mpl.xlabel(\"Št. filmov z nekim žanrom\")\n",
    "mpl.show()\n",
    "\n",
    "\n"
   ]
  },
  {
   "cell_type": "markdown",
   "metadata": {
    "lang": "sl"
   },
   "source": [
    "Odgovor: **zapišite odgovor**"
   ]
  },
  {
   "cell_type": "markdown",
   "metadata": {
    "lang": "sl"
   },
   "source": [
    "### 3. vprašanje (20%):\n",
    "Število ocen (ogledov) se za posamezni film razlikuje. Ali\n",
    "obstaja povezava med gledanostjo in povprečno oceno filma? Opišite postopek, ki\n",
    "ste ga uporabili pri odgovarjanju na vprašanje.\n",
    "\n",
    "Kodo lahko razdelite v več celic."
   ]
  },
  {
   "cell_type": "code",
   "execution_count": 1,
   "metadata": {},
   "outputs": [],
   "source": [
    "from csv import DictReader\n",
    "from collections import Counter\n",
    "\n",
    "\n",
    "ratings = DictReader(open('podatki/ml-latest-small/ratings.csv', 'rt', encoding='utf-8'))\n",
    "movies = DictReader(open('podatki/ml-latest-small/movies.csv', 'rt', encoding='utf-8'))\n",
    "\n",
    "ar = {} # key: movieId, value: all ratings for that id\n",
    "mov = {} # key: movieId, value: title\n",
    "passOne = {}\n",
    "\n",
    "for row in movies:\n",
    "    movId = row[\"movieId\"]\n",
    "    title = row[\"title\"]\n",
    "    genres = row[\"genres\"]\n",
    "    if movId not in mov:\n",
    "        mov[movId] = title\n",
    "    \n",
    "for row in ratings:\n",
    "    user = row[\"userId\"]\n",
    "    movie = row[\"movieId\"]\n",
    "    rating = row[\"rating\"]\n",
    "    if movie not in ar:\n",
    "        ar[movie] = []\n",
    "    ar[movie].append(float(rating))\n",
    "\n",
    "mostRated = 0\n",
    "\n",
    "#povprečne ocene bom izračunal z normalizacijo kot pri prvi nalogi\n",
    "\n",
    "passTwo = {}\n",
    "\n",
    "for key, values in ar.items():\n",
    "    passTwo[key]=float(\"{0:.3f}\".format(sum(values)/mostRated))\n",
    "    \n",
    "c = Counter(passTwo)\n",
    "top = c.most_common(10)\n",
    "\n",
    "for i in top:\n",
    "    print(mov.get(i[0]),\" : \",i[1])"
   ]
  },
  {
   "cell_type": "markdown",
   "metadata": {
    "lang": "sl"
   },
   "source": [
    "Odgovor: **zapišite odgovor**"
   ]
  },
  {
   "cell_type": "markdown",
   "metadata": {
    "lang": "sl"
   },
   "source": [
    "### 4. vprašanje (30%):\n",
    "Vsaka ocena je bila vnešena na določen datum (stolpec\n",
    "*timestamp*).  Ali se popularnost posameznih filmov s časom spreminja?\n",
    "Problem reši tako, da za dani film ocene razporediš po času ter v vsaku časovni\n",
    "točki izračunaš povprečje za zadnjih 30, 50, ali 100 ocen. Nariši graf, kako se\n",
    "ocena spreminja in ga prikaži za dva zanimiva primera filmov.\n",
    "\n",
    "Kodo lahko razdelite v več celic."
   ]
  },
  {
   "cell_type": "code",
   "execution_count": null,
   "metadata": {
    "collapsed": true
   },
   "outputs": [],
   "source": []
  },
  {
   "cell_type": "markdown",
   "metadata": {
    "lang": "sl"
   },
   "source": [
    "Odgovor: **zapišite odgovor**"
   ]
  },
  {
   "cell_type": "markdown",
   "metadata": {
    "lang": "sl"
   },
   "source": [
    "### 5. vprašanje (20%):\n",
    "Kako bi ocenili popularnost posameznih igralcev? Opišite postopek\n",
    "ocenitve ter izpišite 10 najbolj popularnih igralcev.\n",
    "\n",
    "Kodo lahko razdelite v več celic."
   ]
  },
  {
   "cell_type": "code",
   "execution_count": null,
   "metadata": {
    "collapsed": true
   },
   "outputs": [],
   "source": []
  },
  {
   "cell_type": "markdown",
   "metadata": {
    "lang": "sl"
   },
   "source": [
    "Odgovor: **zapišite odgovor**"
   ]
  },
  {
   "cell_type": "markdown",
   "metadata": {
    "lang": "sl"
   },
   "source": [
    "### bonus vprašanje (5%):\n",
    "\n",
    "Kateri je tvoj najljubši film? Zakaj?"
   ]
  },
  {
   "cell_type": "markdown",
   "metadata": {
    "lang": "sl"
   },
   "source": [
    "Odgovor: **zapišite odgovor**"
   ]
  },
  {
   "cell_type": "markdown",
   "metadata": {},
   "source": []
  },
  {
   "cell_type": "markdown",
   "metadata": {
    "lang": "sl"
   },
   "source": [
    "## Zapiski\n",
    "Za nalaganje podatkov lahko uporabite vgrajen modul `csv`. Mapa s podatki `ml-latest-small` se v tem primeru mora nahajati v isti mapi kot notebook."
   ]
  },
  {
   "cell_type": "code",
   "execution_count": 1,
   "metadata": {
    "collapsed": true
   },
   "outputs": [],
   "source": [
    "from csv import DictReader\n",
    "\n",
    "reader = DictReader(open('podatki/ml-latest-small/ratings.csv', 'rt', encoding='utf-8'))\n",
    "for row in reader:\n",
    "    user = row[\"userId\"]\n",
    "    movie = row[\"movieId\"]\n",
    "    rating = row[\"rating\"]\n",
    "    timestamp = row[\"timestamp\"]"
   ]
  },
  {
   "cell_type": "markdown",
   "metadata": {
    "lang": "sl"
   },
   "source": [
    "Podatki v zadnji vrstici datoteke:"
   ]
  },
  {
   "cell_type": "code",
   "execution_count": 2,
   "metadata": {},
   "outputs": [
    {
     "data": {
      "text/plain": [
       "('671', '6565', '3.5', '1074784724')"
      ]
     },
     "execution_count": 2,
     "metadata": {},
     "output_type": "execute_result"
    }
   ],
   "source": [
    "user, movie, rating, timestamp"
   ]
  },
  {
   "cell_type": "markdown",
   "metadata": {
    "lang": "sl"
   },
   "source": [
    "Pretvorba časovnega formata (*Unix time*). Kode za oblikovanje so navedene v dokumentaciji modula [`datetime`](https://docs.python.org/3/library/datetime.html#strftime-and-strptime-behavior)."
   ]
  },
  {
   "cell_type": "code",
   "execution_count": 3,
   "metadata": {},
   "outputs": [
    {
     "data": {
      "text/plain": [
       "'2008-08-05 02:56'"
      ]
     },
     "execution_count": 3,
     "metadata": {},
     "output_type": "execute_result"
    }
   ],
   "source": [
    "from datetime import datetime\n",
    "\n",
    "t = 1217897793 # Unix-time\n",
    "ts = datetime.fromtimestamp(t).strftime('%Y-%m-%d %H:%M')\n",
    "ts"
   ]
  }
 ],
 "metadata": {
  "kernelspec": {
   "display_name": "Python 3",
   "language": "python",
   "name": "python3"
  },
  "language_info": {
   "codemirror_mode": {
    "name": "ipython",
    "version": 3
   },
   "file_extension": ".py",
   "mimetype": "text/x-python",
   "name": "python",
   "nbconvert_exporter": "python",
   "pygments_lexer": "ipython3",
   "version": "3.7.2"
  },
  "latex_envs": {
   "LaTeX_envs_menu_present": true,
   "autocomplete": true,
   "bibliofile": "biblio.bib",
   "cite_by": "apalike",
   "current_citInitial": 1,
   "eqLabelWithNumbers": true,
   "eqNumInitial": 1,
   "hotkeys": {
    "equation": "Ctrl-E",
    "itemize": "Ctrl-I"
   },
   "labels_anchors": false,
   "latex_user_defs": false,
   "report_style_numbering": false,
   "user_envs_cfg": false
  },
  "nbTranslate": {
   "displayLangs": [
    "*"
   ],
   "hotkey": "alt-t",
   "langInMainMenu": true,
   "sourceLang": "sl",
   "targetLang": "en",
   "useGoogleTranslate": true
  }
 },
 "nbformat": 4,
 "nbformat_minor": 2
}
